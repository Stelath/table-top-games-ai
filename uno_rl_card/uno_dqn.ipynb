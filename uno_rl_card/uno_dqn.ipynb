{
  "cells": [
    {
      "cell_type": "markdown",
      "metadata": {
        "colab_type": "text",
        "id": "view-in-github"
      },
      "source": [
        "<a href=\"https://colab.research.google.com/github/mia1996/rlcard-tutoirial/blob/master/blackjack_dqn.ipynb\" target=\"_parent\"><img src=\"https://colab.research.google.com/assets/colab-badge.svg\" alt=\"Open In Colab\"/></a>"
      ]
    },
    {
      "cell_type": "markdown",
      "metadata": {
        "id": "miBl4S8JARzX"
      },
      "source": [
        "\n",
        "\n",
        "# <a href='https://github.com/datamllab/rlcard'> <center> <img src='https://miro.medium.com/max/1000/1*_9abDpNTM9Cbsd2HEXYm9Q.png' width=500 class='center' /></a> \n",
        "\n",
        "## **Deep-Q Learning on Blackjack**\n",
        "This example is to use Deep-Q learning to train an agent on Blackjack. We aim to use this example to show how reinforcement learning algorithms can be developed and applied in our toolkit. To be self-contained, we first install RLCard."
      ]
    },
    {
      "cell_type": "markdown",
      "metadata": {
        "id": "2bt-JVoXyTwM"
      },
      "source": [
        "Now we import `rlcard` and `DQNAgent`. The `DQNAgent` will learn how to win the game."
      ]
    },
    {
      "cell_type": "code",
      "execution_count": 18,
      "metadata": {
        "id": "4_A_Br3Jj0xW"
      },
      "outputs": [],
      "source": [
        "import rlcard\n",
        "from rlcard.agents import DQNAgent, RandomAgent\n",
        "\n",
        "import torch\n",
        "\n",
        "import os"
      ]
    },
    {
      "cell_type": "markdown",
      "metadata": {
        "id": "N2ltkfinYmiU"
      },
      "source": [
        "Let's create the Blackjack environment and take a look at it."
      ]
    },
    {
      "cell_type": "code",
      "execution_count": 19,
      "metadata": {
        "colab": {
          "base_uri": "https://localhost:8080/"
        },
        "id": "l_8Kuf47kghG",
        "outputId": "177c5020-2885-465b-9648-40c1ddcd6c06"
      },
      "outputs": [
        {
          "name": "stdout",
          "output_type": "stream",
          "text": [
            "Number of actions: 61\n",
            "Number of players: 2\n",
            "Shape of state: [[4, 4, 15], [4, 4, 15]]\n",
            "Shape of action: [None, None]\n"
          ]
        }
      ],
      "source": [
        "env = rlcard.make(\"uno\")\n",
        "print(\"Number of actions:\", env.num_actions)\n",
        "print(\"Number of players:\", env.num_players)\n",
        "print(\"Shape of state:\", env.state_shape)\n",
        "print(\"Shape of action:\", env.action_shape)"
      ]
    },
    {
      "cell_type": "markdown",
      "metadata": {
        "id": "W2vJYyyqzVj3"
      },
      "source": [
        "Blackjack is a very simple game with only two possible actions. There is only one player. It's time for us to train our DQN to master this game! We first create a DQNAgent."
      ]
    },
    {
      "cell_type": "code",
      "execution_count": 20,
      "metadata": {
        "id": "8bqfMncnJTYU"
      },
      "outputs": [],
      "source": [
        "agent = DQNAgent(\n",
        "    num_actions=env.num_actions,\n",
        "    state_shape=env.state_shape[0],\n",
        "    mlp_layers=[128,64,32],\n",
        ")\n",
        "agents = [agent]"
      ]
    },
    {
      "cell_type": "markdown",
      "metadata": {
        "id": "tJVGcqYhzvyG"
      },
      "source": [
        "Here, we use a 64-64 deep neural network to learn. Then we pass the DQNAgent to the environment."
      ]
    },
    {
      "cell_type": "code",
      "execution_count": 21,
      "metadata": {
        "id": "5JEwJb_Oztut"
      },
      "outputs": [],
      "source": [
        "for _ in range(1, env.num_players):\n",
        "        agents.append(RandomAgent(num_actions=env.num_actions))\n",
        "\n",
        "env.set_agents(agents)"
      ]
    },
    {
      "cell_type": "markdown",
      "metadata": {
        "id": "zy_sHLKf0TVl"
      },
      "source": [
        "Now we are ready to train! We first import some useful classes and functions for training."
      ]
    },
    {
      "cell_type": "code",
      "execution_count": 22,
      "metadata": {
        "id": "GhgGYyick13x"
      },
      "outputs": [],
      "source": [
        "from rlcard.utils import (\n",
        "    tournament,\n",
        "    reorganize,\n",
        "    Logger,\n",
        "    plot_curve,\n",
        ")"
      ]
    },
    {
      "cell_type": "markdown",
      "metadata": {
        "id": "w2bT6ETj04Hq"
      },
      "source": [
        "Then start the training and log the performance with our `Logger`. The script below will train DQN for 1000 epochs (i.e., 1000 games). Usually, the agent will become stronger if trained longer."
      ]
    },
    {
      "cell_type": "code",
      "execution_count": 23,
      "metadata": {
        "colab": {
          "base_uri": "https://localhost:8080/"
        },
        "id": "rYAj8Q22k5e2",
        "outputId": "e43b29b2-553a-4c17-e3b3-166910af9c42"
      },
      "outputs": [
        {
          "name": "stdout",
          "output_type": "stream",
          "text": [
            "\n",
            "----------------------------------------\n",
            "  timestep     |  70\n",
            "  reward       |  -0.02\n",
            "----------------------------------------\n",
            "INFO - Step 100, rl-loss: 0.2062276005744934\n",
            "INFO - Copied model parameters to target network.\n",
            "INFO - Step 1100, rl-loss: 0.042213309556245804\n",
            "INFO - Copied model parameters to target network.\n",
            "INFO - Step 1210, rl-loss: 0.210900992155075075\n",
            "----------------------------------------\n",
            "  timestep     |  465623\n",
            "  reward       |  -0.0136\n",
            "----------------------------------------\n",
            "INFO - Step 2100, rl-loss: 0.152287006378173835\n",
            "INFO - Copied model parameters to target network.\n",
            "INFO - Step 2490, rl-loss: 0.101741716265678466\n",
            "----------------------------------------\n",
            "  timestep     |  928018\n",
            "  reward       |  0.0042\n",
            "----------------------------------------\n",
            "INFO - Step 3100, rl-loss: 0.154570251703262334\n",
            "INFO - Copied model parameters to target network.\n",
            "INFO - Step 3555, rl-loss: 0.077117472887039184\n",
            "----------------------------------------\n",
            "  timestep     |  1399179\n",
            "  reward       |  -0.0198\n",
            "----------------------------------------\n",
            "INFO - Step 4100, rl-loss: 0.172789901494979864\n",
            "INFO - Copied model parameters to target network.\n",
            "INFO - Step 4744, rl-loss: 0.047029271721839905\n",
            "----------------------------------------\n",
            "  timestep     |  1865693\n",
            "  reward       |  -0.0014\n",
            "----------------------------------------\n",
            "INFO - Step 5100, rl-loss: 0.054755248129367836\n",
            "INFO - Copied model parameters to target network.\n",
            "INFO - Step 5901, rl-loss: 0.161645933985710147\n",
            "----------------------------------------\n",
            "  timestep     |  2339691\n",
            "  reward       |  -0.0264\n",
            "----------------------------------------\n",
            "INFO - Step 6100, rl-loss: 0.078338928520679474\n",
            "INFO - Copied model parameters to target network.\n",
            "INFO - Step 7046, rl-loss: 0.053339540958404546\n",
            "----------------------------------------\n",
            "  timestep     |  2808681\n",
            "  reward       |  -0.0224\n",
            "----------------------------------------\n",
            "INFO - Step 7100, rl-loss: 0.032225899398326874\n",
            "INFO - Copied model parameters to target network.\n",
            "INFO - Step 8100, rl-loss: 0.082081288099288946\n",
            "INFO - Copied model parameters to target network.\n",
            "INFO - Step 8139, rl-loss: 0.044844366610050245\n",
            "----------------------------------------\n",
            "  timestep     |  3271746\n",
            "  reward       |  -0.006\n",
            "----------------------------------------\n",
            "INFO - Step 9100, rl-loss: 0.087882332503795624\n",
            "INFO - Copied model parameters to target network.\n",
            "INFO - Step 9173, rl-loss: 0.070768132805824286\n",
            "----------------------------------------\n",
            "  timestep     |  3734583\n",
            "  reward       |  0.007\n",
            "----------------------------------------\n",
            "INFO - Step 10100, rl-loss: 0.149999439716339125\n",
            "INFO - Copied model parameters to target network.\n",
            "INFO - Step 10171, rl-loss: 0.085324063897132876\n",
            "----------------------------------------\n",
            "  timestep     |  4197920\n",
            "  reward       |  -0.0078\n",
            "----------------------------------------\n",
            "INFO - Step 11100, rl-loss: 0.095221400260925296\n",
            "INFO - Copied model parameters to target network.\n",
            "INFO - Step 11169, rl-loss: 0.18210631608963013\n",
            "----------------------------------------\n",
            "  timestep     |  4668541\n",
            "  reward       |  -0.0154\n",
            "----------------------------------------\n",
            "INFO - Step 12100, rl-loss: 0.063095666468143464\n",
            "INFO - Copied model parameters to target network.\n",
            "INFO - Step 12294, rl-loss: 0.173155307769775486\n",
            "----------------------------------------\n",
            "  timestep     |  5131892\n",
            "  reward       |  0.0152\n",
            "----------------------------------------\n",
            "INFO - Step 13100, rl-loss: 0.088525056838989265\n",
            "INFO - Copied model parameters to target network.\n",
            "INFO - Step 13429, rl-loss: 0.152324825525283876\n",
            "----------------------------------------\n",
            "  timestep     |  5604570\n",
            "  reward       |  -0.0006\n",
            "----------------------------------------\n",
            "INFO - Step 14100, rl-loss: 0.127953469753265386\n",
            "INFO - Copied model parameters to target network.\n",
            "INFO - Step 14683, rl-loss: 0.127670988440513675\n",
            "----------------------------------------\n",
            "  timestep     |  6078992\n",
            "  reward       |  0.0122\n",
            "----------------------------------------\n",
            "INFO - Step 15100, rl-loss: 0.092064224183559426\n",
            "INFO - Copied model parameters to target network.\n",
            "INFO - Step 15922, rl-loss: 0.324608981609344585\n",
            "----------------------------------------\n",
            "  timestep     |  6541378\n",
            "  reward       |  0.0158\n",
            "----------------------------------------\n",
            "INFO - Step 16100, rl-loss: 0.09811624884605408\n",
            "INFO - Copied model parameters to target network.\n",
            "INFO - Step 16920, rl-loss: 0.130202680826187136\n",
            "----------------------------------------\n",
            "  timestep     |  7011371\n",
            "  reward       |  -0.001\n",
            "----------------------------------------\n",
            "INFO - Step 17100, rl-loss: 0.208714440464973454\n",
            "INFO - Copied model parameters to target network.\n",
            "INFO - Step 18025, rl-loss: 0.224122121930122386\n",
            "----------------------------------------\n",
            "  timestep     |  7477167\n",
            "  reward       |  0.0176\n",
            "----------------------------------------\n",
            "INFO - Step 18100, rl-loss: 0.178863614797592165\n",
            "INFO - Copied model parameters to target network.\n",
            "INFO - Step 19038, rl-loss: 0.102862715721130376\n",
            "----------------------------------------\n",
            "  timestep     |  7946865\n",
            "  reward       |  -0.0076\n",
            "----------------------------------------\n",
            "INFO - Step 19100, rl-loss: 0.28362545371055603\n",
            "INFO - Copied model parameters to target network.\n",
            "INFO - Step 20100, rl-loss: 0.151798307895660474\n",
            "INFO - Copied model parameters to target network.\n",
            "INFO - Step 20242, rl-loss: 0.684503912925720284\n",
            "Logs saved in experiments/uno_dqn_result/\n"
          ]
        },
        {
          "ename": "KeyboardInterrupt",
          "evalue": "",
          "output_type": "error",
          "traceback": [
            "\u001b[0;31m---------------------------------------------------------------------------\u001b[0m",
            "\u001b[0;31mKeyboardInterrupt\u001b[0m                         Traceback (most recent call last)",
            "\u001b[1;32m/Users/alexanderkorte/Documents/GitHub/table-top-games-ai/uno_rl_card/uno_dqn.ipynb Cell 14\u001b[0m in \u001b[0;36m<cell line: 1>\u001b[0;34m()\u001b[0m\n\u001b[1;32m     <a href='vscode-notebook-cell:/Users/alexanderkorte/Documents/GitHub/table-top-games-ai/uno_rl_card/uno_dqn.ipynb#X16sZmlsZQ%3D%3D?line=13'>14</a>\u001b[0m     \u001b[39m# Evaluate the performance.\u001b[39;00m\n\u001b[1;32m     <a href='vscode-notebook-cell:/Users/alexanderkorte/Documents/GitHub/table-top-games-ai/uno_rl_card/uno_dqn.ipynb#X16sZmlsZQ%3D%3D?line=14'>15</a>\u001b[0m     \u001b[39mif\u001b[39;00m episode \u001b[39m%\u001b[39m \u001b[39m50\u001b[39m \u001b[39m==\u001b[39m \u001b[39m0\u001b[39m:\n\u001b[1;32m     <a href='vscode-notebook-cell:/Users/alexanderkorte/Documents/GitHub/table-top-games-ai/uno_rl_card/uno_dqn.ipynb#X16sZmlsZQ%3D%3D?line=15'>16</a>\u001b[0m         logger\u001b[39m.\u001b[39mlog_performance(\n\u001b[1;32m     <a href='vscode-notebook-cell:/Users/alexanderkorte/Documents/GitHub/table-top-games-ai/uno_rl_card/uno_dqn.ipynb#X16sZmlsZQ%3D%3D?line=16'>17</a>\u001b[0m             env\u001b[39m.\u001b[39mtimestep,\n\u001b[0;32m---> <a href='vscode-notebook-cell:/Users/alexanderkorte/Documents/GitHub/table-top-games-ai/uno_rl_card/uno_dqn.ipynb#X16sZmlsZQ%3D%3D?line=17'>18</a>\u001b[0m             tournament(\n\u001b[1;32m     <a href='vscode-notebook-cell:/Users/alexanderkorte/Documents/GitHub/table-top-games-ai/uno_rl_card/uno_dqn.ipynb#X16sZmlsZQ%3D%3D?line=18'>19</a>\u001b[0m                 env,\n\u001b[1;32m     <a href='vscode-notebook-cell:/Users/alexanderkorte/Documents/GitHub/table-top-games-ai/uno_rl_card/uno_dqn.ipynb#X16sZmlsZQ%3D%3D?line=19'>20</a>\u001b[0m                 \u001b[39m10000\u001b[39;49m,\n\u001b[1;32m     <a href='vscode-notebook-cell:/Users/alexanderkorte/Documents/GitHub/table-top-games-ai/uno_rl_card/uno_dqn.ipynb#X16sZmlsZQ%3D%3D?line=20'>21</a>\u001b[0m             )[\u001b[39m0\u001b[39m]\n\u001b[1;32m     <a href='vscode-notebook-cell:/Users/alexanderkorte/Documents/GitHub/table-top-games-ai/uno_rl_card/uno_dqn.ipynb#X16sZmlsZQ%3D%3D?line=21'>22</a>\u001b[0m         )\n\u001b[1;32m     <a href='vscode-notebook-cell:/Users/alexanderkorte/Documents/GitHub/table-top-games-ai/uno_rl_card/uno_dqn.ipynb#X16sZmlsZQ%3D%3D?line=23'>24</a>\u001b[0m \u001b[39m# Get the paths\u001b[39;00m\n\u001b[1;32m     <a href='vscode-notebook-cell:/Users/alexanderkorte/Documents/GitHub/table-top-games-ai/uno_rl_card/uno_dqn.ipynb#X16sZmlsZQ%3D%3D?line=24'>25</a>\u001b[0m csv_path, fig_path \u001b[39m=\u001b[39m logger\u001b[39m.\u001b[39mcsv_path, logger\u001b[39m.\u001b[39mfig_path\n",
            "File \u001b[0;32m~/miniforge3/envs/ml/lib/python3.9/site-packages/rlcard/utils/utils.py:210\u001b[0m, in \u001b[0;36mtournament\u001b[0;34m(env, num)\u001b[0m\n\u001b[1;32m    208\u001b[0m counter \u001b[39m=\u001b[39m \u001b[39m0\u001b[39m\n\u001b[1;32m    209\u001b[0m \u001b[39mwhile\u001b[39;00m counter \u001b[39m<\u001b[39m num:\n\u001b[0;32m--> 210\u001b[0m     _, _payoffs \u001b[39m=\u001b[39m env\u001b[39m.\u001b[39;49mrun(is_training\u001b[39m=\u001b[39;49m\u001b[39mFalse\u001b[39;49;00m)\n\u001b[1;32m    211\u001b[0m     \u001b[39mif\u001b[39;00m \u001b[39misinstance\u001b[39m(_payoffs, \u001b[39mlist\u001b[39m):\n\u001b[1;32m    212\u001b[0m         \u001b[39mfor\u001b[39;00m _p \u001b[39min\u001b[39;00m _payoffs:\n",
            "File \u001b[0;32m~/miniforge3/envs/ml/lib/python3.9/site-packages/rlcard/envs/env.py:144\u001b[0m, in \u001b[0;36mEnv.run\u001b[0;34m(self, is_training)\u001b[0m\n\u001b[1;32m    141\u001b[0m \u001b[39mwhile\u001b[39;00m \u001b[39mnot\u001b[39;00m \u001b[39mself\u001b[39m\u001b[39m.\u001b[39mis_over():\n\u001b[1;32m    142\u001b[0m     \u001b[39m# Agent plays\u001b[39;00m\n\u001b[1;32m    143\u001b[0m     \u001b[39mif\u001b[39;00m \u001b[39mnot\u001b[39;00m is_training:\n\u001b[0;32m--> 144\u001b[0m         action, _ \u001b[39m=\u001b[39m \u001b[39mself\u001b[39;49m\u001b[39m.\u001b[39;49magents[player_id]\u001b[39m.\u001b[39;49meval_step(state)\n\u001b[1;32m    145\u001b[0m     \u001b[39melse\u001b[39;00m:\n\u001b[1;32m    146\u001b[0m         action \u001b[39m=\u001b[39m \u001b[39mself\u001b[39m\u001b[39m.\u001b[39magents[player_id]\u001b[39m.\u001b[39mstep(state)\n",
            "File \u001b[0;32m~/miniforge3/envs/ml/lib/python3.9/site-packages/rlcard/agents/dqn_agent.py:163\u001b[0m, in \u001b[0;36mDQNAgent.eval_step\u001b[0;34m(self, state)\u001b[0m\n\u001b[1;32m    153\u001b[0m \u001b[39mdef\u001b[39;00m \u001b[39meval_step\u001b[39m(\u001b[39mself\u001b[39m, state):\n\u001b[1;32m    154\u001b[0m     \u001b[39m''' Predict the action for evaluation purpose.\u001b[39;00m\n\u001b[1;32m    155\u001b[0m \n\u001b[1;32m    156\u001b[0m \u001b[39m    Args:\u001b[39;00m\n\u001b[0;32m   (...)\u001b[0m\n\u001b[1;32m    161\u001b[0m \u001b[39m        info (dict): A dictionary containing information\u001b[39;00m\n\u001b[1;32m    162\u001b[0m \u001b[39m    '''\u001b[39;00m\n\u001b[0;32m--> 163\u001b[0m     q_values \u001b[39m=\u001b[39m \u001b[39mself\u001b[39;49m\u001b[39m.\u001b[39;49mpredict(state)\n\u001b[1;32m    164\u001b[0m     best_action \u001b[39m=\u001b[39m np\u001b[39m.\u001b[39margmax(q_values)\n\u001b[1;32m    166\u001b[0m     info \u001b[39m=\u001b[39m {}\n",
            "File \u001b[0;32m~/miniforge3/envs/ml/lib/python3.9/site-packages/rlcard/agents/dqn_agent.py:181\u001b[0m, in \u001b[0;36mDQNAgent.predict\u001b[0;34m(self, state)\u001b[0m\n\u001b[1;32m    171\u001b[0m \u001b[39mdef\u001b[39;00m \u001b[39mpredict\u001b[39m(\u001b[39mself\u001b[39m, state):\n\u001b[1;32m    172\u001b[0m     \u001b[39m''' Predict the masked Q-values\u001b[39;00m\n\u001b[1;32m    173\u001b[0m \n\u001b[1;32m    174\u001b[0m \u001b[39m    Args:\u001b[39;00m\n\u001b[0;32m   (...)\u001b[0m\n\u001b[1;32m    178\u001b[0m \u001b[39m        q_values (numpy.array): a 1-d array where each entry represents a Q value\u001b[39;00m\n\u001b[1;32m    179\u001b[0m \u001b[39m    '''\u001b[39;00m\n\u001b[0;32m--> 181\u001b[0m     q_values \u001b[39m=\u001b[39m \u001b[39mself\u001b[39;49m\u001b[39m.\u001b[39;49mq_estimator\u001b[39m.\u001b[39;49mpredict_nograd(np\u001b[39m.\u001b[39;49mexpand_dims(state[\u001b[39m'\u001b[39;49m\u001b[39mobs\u001b[39;49m\u001b[39m'\u001b[39;49m], \u001b[39m0\u001b[39;49m))[\u001b[39m0\u001b[39m]\n\u001b[1;32m    182\u001b[0m     masked_q_values \u001b[39m=\u001b[39m \u001b[39m-\u001b[39mnp\u001b[39m.\u001b[39minf \u001b[39m*\u001b[39m np\u001b[39m.\u001b[39mones(\u001b[39mself\u001b[39m\u001b[39m.\u001b[39mnum_actions, dtype\u001b[39m=\u001b[39m\u001b[39mfloat\u001b[39m)\n\u001b[1;32m    183\u001b[0m     legal_actions \u001b[39m=\u001b[39m \u001b[39mlist\u001b[39m(state[\u001b[39m'\u001b[39m\u001b[39mlegal_actions\u001b[39m\u001b[39m'\u001b[39m]\u001b[39m.\u001b[39mkeys())\n",
            "File \u001b[0;32m~/miniforge3/envs/ml/lib/python3.9/site-packages/rlcard/agents/dqn_agent.py:297\u001b[0m, in \u001b[0;36mEstimator.predict_nograd\u001b[0;34m(self, s)\u001b[0m\n\u001b[1;32m    295\u001b[0m \u001b[39mwith\u001b[39;00m torch\u001b[39m.\u001b[39mno_grad():\n\u001b[1;32m    296\u001b[0m     s \u001b[39m=\u001b[39m torch\u001b[39m.\u001b[39mfrom_numpy(s)\u001b[39m.\u001b[39mfloat()\u001b[39m.\u001b[39mto(\u001b[39mself\u001b[39m\u001b[39m.\u001b[39mdevice)\n\u001b[0;32m--> 297\u001b[0m     q_as \u001b[39m=\u001b[39m \u001b[39mself\u001b[39;49m\u001b[39m.\u001b[39;49mqnet(s)\u001b[39m.\u001b[39mcpu()\u001b[39m.\u001b[39mnumpy()\n\u001b[1;32m    298\u001b[0m \u001b[39mreturn\u001b[39;00m q_as\n",
            "File \u001b[0;32m~/miniforge3/envs/ml/lib/python3.9/site-packages/torch/nn/modules/module.py:1130\u001b[0m, in \u001b[0;36mModule._call_impl\u001b[0;34m(self, *input, **kwargs)\u001b[0m\n\u001b[1;32m   1126\u001b[0m \u001b[39m# If we don't have any hooks, we want to skip the rest of the logic in\u001b[39;00m\n\u001b[1;32m   1127\u001b[0m \u001b[39m# this function, and just call forward.\u001b[39;00m\n\u001b[1;32m   1128\u001b[0m \u001b[39mif\u001b[39;00m \u001b[39mnot\u001b[39;00m (\u001b[39mself\u001b[39m\u001b[39m.\u001b[39m_backward_hooks \u001b[39mor\u001b[39;00m \u001b[39mself\u001b[39m\u001b[39m.\u001b[39m_forward_hooks \u001b[39mor\u001b[39;00m \u001b[39mself\u001b[39m\u001b[39m.\u001b[39m_forward_pre_hooks \u001b[39mor\u001b[39;00m _global_backward_hooks\n\u001b[1;32m   1129\u001b[0m         \u001b[39mor\u001b[39;00m _global_forward_hooks \u001b[39mor\u001b[39;00m _global_forward_pre_hooks):\n\u001b[0;32m-> 1130\u001b[0m     \u001b[39mreturn\u001b[39;00m forward_call(\u001b[39m*\u001b[39;49m\u001b[39minput\u001b[39;49m, \u001b[39m*\u001b[39;49m\u001b[39m*\u001b[39;49mkwargs)\n\u001b[1;32m   1131\u001b[0m \u001b[39m# Do not call functions when jit is used\u001b[39;00m\n\u001b[1;32m   1132\u001b[0m full_backward_hooks, non_full_backward_hooks \u001b[39m=\u001b[39m [], []\n",
            "File \u001b[0;32m~/miniforge3/envs/ml/lib/python3.9/site-packages/rlcard/agents/dqn_agent.py:374\u001b[0m, in \u001b[0;36mEstimatorNetwork.forward\u001b[0;34m(self, s)\u001b[0m\n\u001b[1;32m    368\u001b[0m \u001b[39mdef\u001b[39;00m \u001b[39mforward\u001b[39m(\u001b[39mself\u001b[39m, s):\n\u001b[1;32m    369\u001b[0m     \u001b[39m''' Predict action values\u001b[39;00m\n\u001b[1;32m    370\u001b[0m \n\u001b[1;32m    371\u001b[0m \u001b[39m    Args:\u001b[39;00m\n\u001b[1;32m    372\u001b[0m \u001b[39m        s  (Tensor): (batch, state_shape)\u001b[39;00m\n\u001b[1;32m    373\u001b[0m \u001b[39m    '''\u001b[39;00m\n\u001b[0;32m--> 374\u001b[0m     \u001b[39mreturn\u001b[39;00m \u001b[39mself\u001b[39;49m\u001b[39m.\u001b[39;49mfc_layers(s)\n",
            "File \u001b[0;32m~/miniforge3/envs/ml/lib/python3.9/site-packages/torch/nn/modules/module.py:1130\u001b[0m, in \u001b[0;36mModule._call_impl\u001b[0;34m(self, *input, **kwargs)\u001b[0m\n\u001b[1;32m   1126\u001b[0m \u001b[39m# If we don't have any hooks, we want to skip the rest of the logic in\u001b[39;00m\n\u001b[1;32m   1127\u001b[0m \u001b[39m# this function, and just call forward.\u001b[39;00m\n\u001b[1;32m   1128\u001b[0m \u001b[39mif\u001b[39;00m \u001b[39mnot\u001b[39;00m (\u001b[39mself\u001b[39m\u001b[39m.\u001b[39m_backward_hooks \u001b[39mor\u001b[39;00m \u001b[39mself\u001b[39m\u001b[39m.\u001b[39m_forward_hooks \u001b[39mor\u001b[39;00m \u001b[39mself\u001b[39m\u001b[39m.\u001b[39m_forward_pre_hooks \u001b[39mor\u001b[39;00m _global_backward_hooks\n\u001b[1;32m   1129\u001b[0m         \u001b[39mor\u001b[39;00m _global_forward_hooks \u001b[39mor\u001b[39;00m _global_forward_pre_hooks):\n\u001b[0;32m-> 1130\u001b[0m     \u001b[39mreturn\u001b[39;00m forward_call(\u001b[39m*\u001b[39;49m\u001b[39minput\u001b[39;49m, \u001b[39m*\u001b[39;49m\u001b[39m*\u001b[39;49mkwargs)\n\u001b[1;32m   1131\u001b[0m \u001b[39m# Do not call functions when jit is used\u001b[39;00m\n\u001b[1;32m   1132\u001b[0m full_backward_hooks, non_full_backward_hooks \u001b[39m=\u001b[39m [], []\n",
            "File \u001b[0;32m~/miniforge3/envs/ml/lib/python3.9/site-packages/torch/nn/modules/container.py:139\u001b[0m, in \u001b[0;36mSequential.forward\u001b[0;34m(self, input)\u001b[0m\n\u001b[1;32m    137\u001b[0m \u001b[39mdef\u001b[39;00m \u001b[39mforward\u001b[39m(\u001b[39mself\u001b[39m, \u001b[39minput\u001b[39m):\n\u001b[1;32m    138\u001b[0m     \u001b[39mfor\u001b[39;00m module \u001b[39min\u001b[39;00m \u001b[39mself\u001b[39m:\n\u001b[0;32m--> 139\u001b[0m         \u001b[39minput\u001b[39m \u001b[39m=\u001b[39m module(\u001b[39minput\u001b[39;49m)\n\u001b[1;32m    140\u001b[0m     \u001b[39mreturn\u001b[39;00m \u001b[39minput\u001b[39m\n",
            "File \u001b[0;32m~/miniforge3/envs/ml/lib/python3.9/site-packages/torch/nn/modules/module.py:1130\u001b[0m, in \u001b[0;36mModule._call_impl\u001b[0;34m(self, *input, **kwargs)\u001b[0m\n\u001b[1;32m   1126\u001b[0m \u001b[39m# If we don't have any hooks, we want to skip the rest of the logic in\u001b[39;00m\n\u001b[1;32m   1127\u001b[0m \u001b[39m# this function, and just call forward.\u001b[39;00m\n\u001b[1;32m   1128\u001b[0m \u001b[39mif\u001b[39;00m \u001b[39mnot\u001b[39;00m (\u001b[39mself\u001b[39m\u001b[39m.\u001b[39m_backward_hooks \u001b[39mor\u001b[39;00m \u001b[39mself\u001b[39m\u001b[39m.\u001b[39m_forward_hooks \u001b[39mor\u001b[39;00m \u001b[39mself\u001b[39m\u001b[39m.\u001b[39m_forward_pre_hooks \u001b[39mor\u001b[39;00m _global_backward_hooks\n\u001b[1;32m   1129\u001b[0m         \u001b[39mor\u001b[39;00m _global_forward_hooks \u001b[39mor\u001b[39;00m _global_forward_pre_hooks):\n\u001b[0;32m-> 1130\u001b[0m     \u001b[39mreturn\u001b[39;00m forward_call(\u001b[39m*\u001b[39;49m\u001b[39minput\u001b[39;49m, \u001b[39m*\u001b[39;49m\u001b[39m*\u001b[39;49mkwargs)\n\u001b[1;32m   1131\u001b[0m \u001b[39m# Do not call functions when jit is used\u001b[39;00m\n\u001b[1;32m   1132\u001b[0m full_backward_hooks, non_full_backward_hooks \u001b[39m=\u001b[39m [], []\n",
            "File \u001b[0;32m~/miniforge3/envs/ml/lib/python3.9/site-packages/torch/nn/modules/linear.py:114\u001b[0m, in \u001b[0;36mLinear.forward\u001b[0;34m(self, input)\u001b[0m\n\u001b[1;32m    113\u001b[0m \u001b[39mdef\u001b[39;00m \u001b[39mforward\u001b[39m(\u001b[39mself\u001b[39m, \u001b[39minput\u001b[39m: Tensor) \u001b[39m-\u001b[39m\u001b[39m>\u001b[39m Tensor:\n\u001b[0;32m--> 114\u001b[0m     \u001b[39mreturn\u001b[39;00m F\u001b[39m.\u001b[39;49mlinear(\u001b[39minput\u001b[39;49m, \u001b[39mself\u001b[39;49m\u001b[39m.\u001b[39;49mweight, \u001b[39mself\u001b[39;49m\u001b[39m.\u001b[39;49mbias)\n",
            "\u001b[0;31mKeyboardInterrupt\u001b[0m: "
          ]
        }
      ],
      "source": [
        "with Logger(\"experiments/uno_dqn_result/\") as logger:\n",
        "    for episode in range(1000):\n",
        "\n",
        "        # Generate data from the environment\n",
        "        trajectories, payoffs = env.run(is_training=True)\n",
        "\n",
        "        # Reorganaize the data to be state, action, reward, next_state, done\n",
        "        trajectories = reorganize(trajectories, payoffs)\n",
        "\n",
        "        # Feed transitions into agent memory, and train the agent\n",
        "        for ts in trajectories[0]:\n",
        "            agent.feed(ts)\n",
        "\n",
        "        # Evaluate the performance.\n",
        "        if episode % 50 == 0:\n",
        "            logger.log_performance(\n",
        "                env.timestep,\n",
        "                tournament(\n",
        "                    env,\n",
        "                    10000,\n",
        "                )[0]\n",
        "            )\n",
        "\n",
        "    # Get the paths\n",
        "    csv_path, fig_path = logger.csv_path, logger.fig_path"
      ]
    },
    {
      "cell_type": "markdown",
      "metadata": {
        "id": "rbIiQS3K2R0u"
      },
      "source": [
        "Now we plot the learning curves to monitor how the agent gets improved!"
      ]
    },
    {
      "cell_type": "code",
      "execution_count": 14,
      "metadata": {
        "colab": {
          "base_uri": "https://localhost:8080/",
          "height": 279
        },
        "id": "06n2QSTDIqb0",
        "outputId": "4536c8af-e4ca-489e-c7fd-4d32c839f81c"
      },
      "outputs": [
        {
          "data": {
            "image/png": "[encoded data removed]",
            "text/plain": [
              "<Figure size 432x288 with 1 Axes>"
            ]
          },
          "metadata": {
            "needs_background": "light"
          },
          "output_type": "display_data"
        }
      ],
      "source": [
        "plot_curve(csv_path, fig_path, \"DQN\")"
      ]
    },
    {
      "cell_type": "code",
      "execution_count": 17,
      "metadata": {},
      "outputs": [
        {
          "name": "stdout",
          "output_type": "stream",
          "text": [
            "Model saved in experiments/uno_dqn_result/model.pth\n"
          ]
        }
      ],
      "source": [
        "# Save model\n",
        "save_path = os.path.join(\"experiments/uno_dqn_result/\", 'model.pth')\n",
        "torch.save(agent, save_path)\n",
        "print('Model saved in', save_path)"
      ]
    }
  ],
  "metadata": {
    "colab": {
      "collapsed_sections": [],
      "include_colab_link": true,
      "name": "Copy of blackjack_dqn.ipynb",
      "provenance": []
    },
    "kernelspec": {
      "display_name": "Python 3.9.13 ('ml')",
      "language": "python",
      "name": "python3"
    },
    "language_info": {
      "codemirror_mode": {
        "name": "ipython",
        "version": 3
      },
      "file_extension": ".py",
      "mimetype": "text/x-python",
      "name": "python",
      "nbconvert_exporter": "python",
      "pygments_lexer": "ipython3",
      "version": "3.9.13"
    },
    "vscode": {
      "interpreter": {
        "hash": "9d01b5a543a82692238f3084f96aae2e1edb23ab05d685e1cb1b514c5d096d7e"
      }
    }
  },
  "nbformat": 4,
  "nbformat_minor": 0
}

{
  "cells": [
    {
      "cell_type": "markdown",
      "metadata": {
        "colab_type": "text",
        "id": "view-in-github"
      },
      "source": [
        "<a href=\"https://colab.research.google.com/github/mia1996/rlcard-tutoirial/blob/master/blackjack_dqn.ipynb\" target=\"_parent\"><img src=\"https://colab.research.google.com/assets/colab-badge.svg\" alt=\"Open In Colab\"/></a>"
      ]
    },
    {
      "cell_type": "markdown",
      "metadata": {
        "id": "miBl4S8JARzX"
      },
      "source": [
        "\n",
        "\n",
        "# <a href='https://github.com/datamllab/rlcard'> <center> <img src='https://miro.medium.com/max/1000/1*_9abDpNTM9Cbsd2HEXYm9Q.png' width=500 class='center' /></a> \n",
        "\n",
        "## **Deep-Q Learning on Blackjack**\n",
        "This example is to use Deep-Q learning to train an agent on Blackjack. We aim to use this example to show how reinforcement learning algorithms can be developed and applied in our toolkit. To be self-contained, we first install RLCard."
      ]
    },
    {
      "cell_type": "markdown",
      "metadata": {
        "id": "2bt-JVoXyTwM"
      },
      "source": [
        "Now we import `rlcard` and `DQNAgent`. The `DQNAgent` will learn how to win the game."
      ]
    },
    {
      "cell_type": "code",
      "execution_count": 1,
      "metadata": {
        "id": "4_A_Br3Jj0xW"
      },
      "outputs": [
        {
          "name": "stderr",
          "output_type": "stream",
          "text": [
            "/Users/alexanderkorte/miniforge3/envs/ml/lib/python3.9/site-packages/tqdm/auto.py:22: TqdmWarning: IProgress not found. Please update jupyter and ipywidgets. See https://ipywidgets.readthedocs.io/en/stable/user_install.html\n",
            "  from .autonotebook import tqdm as notebook_tqdm\n"
          ]
        }
      ],
      "source": [
        "import rlcard\n",
        "from rlcard.agents import DQNAgent"
      ]
    },
    {
      "cell_type": "markdown",
      "metadata": {
        "id": "N2ltkfinYmiU"
      },
      "source": [
        "Let's create the Blackjack environment and take a look at it."
      ]
    },
    {
      "cell_type": "code",
      "execution_count": 2,
      "metadata": {
        "colab": {
          "base_uri": "https://localhost:8080/"
        },
        "id": "l_8Kuf47kghG",
        "outputId": "177c5020-2885-465b-9648-40c1ddcd6c06"
      },
      "outputs": [
        {
          "name": "stdout",
          "output_type": "stream",
          "text": [
            "Number of actions: 2\n",
            "Number of players: 1\n",
            "Shape of state: [[2]]\n",
            "Shape of action: [None]\n"
          ]
        }
      ],
      "source": [
        "env = rlcard.make(\"blackjack\")\n",
        "print(\"Number of actions:\", env.num_actions)\n",
        "print(\"Number of players:\", env.num_players)\n",
        "print(\"Shape of state:\", env.state_shape)\n",
        "print(\"Shape of action:\", env.action_shape)"
      ]
    },
    {
      "cell_type": "markdown",
      "metadata": {
        "id": "W2vJYyyqzVj3"
      },
      "source": [
        "Blackjack is a very simple game with only two possible actions. There is only one player. It's time for us to train our DQN to master this game! We first create a DQNAgent."
      ]
    },
    {
      "cell_type": "code",
      "execution_count": 3,
      "metadata": {
        "id": "8bqfMncnJTYU"
      },
      "outputs": [],
      "source": [
        "agent = DQNAgent(\n",
        "    num_actions=env.num_actions,\n",
        "    state_shape=env.state_shape[0],\n",
        "    mlp_layers=[64,64],\n",
        ")"
      ]
    },
    {
      "cell_type": "markdown",
      "metadata": {
        "id": "tJVGcqYhzvyG"
      },
      "source": [
        "Here, we use a 64-64 deep neural network to learn. Then we pass the DQNAgent to the environment."
      ]
    },
    {
      "cell_type": "code",
      "execution_count": 4,
      "metadata": {
        "id": "5JEwJb_Oztut"
      },
      "outputs": [],
      "source": [
        "env.set_agents([agent])"
      ]
    },
    {
      "cell_type": "markdown",
      "metadata": {
        "id": "zy_sHLKf0TVl"
      },
      "source": [
        "Now we are ready to train! We first import some useful classes and functions for training."
      ]
    },
    {
      "cell_type": "code",
      "execution_count": 5,
      "metadata": {
        "id": "GhgGYyick13x"
      },
      "outputs": [],
      "source": [
        "from rlcard.utils import (\n",
        "    tournament,\n",
        "    reorganize,\n",
        "    Logger,\n",
        "    plot_curve,\n",
        ")"
      ]
    },
    {
      "cell_type": "markdown",
      "metadata": {
        "id": "w2bT6ETj04Hq"
      },
      "source": [
        "Then start the training and log the performance with our `Logger`. The script below will train DQN for 1000 epochs (i.e., 1000 games). Usually, the agent will become stronger if trained longer."
      ]
    },
    {
      "cell_type": "code",
      "execution_count": 6,
      "metadata": {
        "colab": {
          "base_uri": "https://localhost:8080/"
        },
        "id": "rYAj8Q22k5e2",
        "outputId": "e43b29b2-553a-4c17-e3b3-166910af9c42"
      },
      "outputs": [
        {
          "name": "stdout",
          "output_type": "stream",
          "text": [
            "\n",
            "----------------------------------------\n",
            "  timestep     |  1\n",
            "  reward       |  -1.0\n",
            "----------------------------------------\n",
            "\n",
            "----------------------------------------\n",
            "  timestep     |  19253\n",
            "  reward       |  -1.0\n",
            "----------------------------------------\n",
            "INFO - Step 100, rl-loss: 1.5419553518295288\n",
            "INFO - Copied model parameters to target network.\n",
            "INFO - Step 136, rl-loss: 1.0125019550323486\n",
            "----------------------------------------\n",
            "  timestep     |  38312\n",
            "  reward       |  -1.0\n",
            "----------------------------------------\n",
            "INFO - Step 206, rl-loss: 0.7163112759590149\n",
            "----------------------------------------\n",
            "  timestep     |  57403\n",
            "  reward       |  -0.1175\n",
            "----------------------------------------\n",
            "INFO - Step 274, rl-loss: 0.43994760513305664\n",
            "----------------------------------------\n",
            "  timestep     |  70096\n",
            "  reward       |  -0.1736\n",
            "----------------------------------------\n",
            "INFO - Step 353, rl-loss: 0.39714455604553224\n",
            "----------------------------------------\n",
            "  timestep     |  80255\n",
            "  reward       |  -0.1677\n",
            "----------------------------------------\n",
            "INFO - Step 423, rl-loss: 0.25982460379600525\n",
            "----------------------------------------\n",
            "  timestep     |  90406\n",
            "  reward       |  -0.1991\n",
            "----------------------------------------\n",
            "INFO - Step 488, rl-loss: 0.50377094745635994\n",
            "----------------------------------------\n",
            "  timestep     |  100833\n",
            "  reward       |  -0.1628\n",
            "----------------------------------------\n",
            "INFO - Step 554, rl-loss: 0.44012171030044556\n",
            "----------------------------------------\n",
            "  timestep     |  111572\n",
            "  reward       |  -0.1504\n",
            "----------------------------------------\n",
            "INFO - Step 624, rl-loss: 0.51042598485946665\n",
            "----------------------------------------\n",
            "  timestep     |  123111\n",
            "  reward       |  -0.1426\n",
            "----------------------------------------\n",
            "INFO - Step 691, rl-loss: 0.39074635505676277\n",
            "----------------------------------------\n",
            "  timestep     |  134627\n",
            "  reward       |  -0.1365\n",
            "----------------------------------------\n",
            "INFO - Step 755, rl-loss: 0.34639292955398565\n",
            "----------------------------------------\n",
            "  timestep     |  146366\n",
            "  reward       |  -0.1406\n",
            "----------------------------------------\n",
            "INFO - Step 815, rl-loss: 0.26606899499893196\n",
            "----------------------------------------\n",
            "  timestep     |  158163\n",
            "  reward       |  -0.1108\n",
            "----------------------------------------\n",
            "INFO - Step 884, rl-loss: 0.41655322909355164\n",
            "----------------------------------------\n",
            "  timestep     |  170165\n",
            "  reward       |  -0.1254\n",
            "----------------------------------------\n",
            "INFO - Step 954, rl-loss: 0.30465403199195866\n",
            "----------------------------------------\n",
            "  timestep     |  182509\n",
            "  reward       |  -0.0973\n",
            "----------------------------------------\n",
            "INFO - Step 1018, rl-loss: 0.36847698688507085\n",
            "----------------------------------------\n",
            "  timestep     |  194794\n",
            "  reward       |  -0.1344\n",
            "----------------------------------------\n",
            "INFO - Step 1087, rl-loss: 0.33364325761795044\n",
            "----------------------------------------\n",
            "  timestep     |  206729\n",
            "  reward       |  -0.0957\n",
            "----------------------------------------\n",
            "INFO - Step 1100, rl-loss: 0.26446875929832465\n",
            "INFO - Copied model parameters to target network.\n",
            "INFO - Step 1152, rl-loss: 0.75998002290725717\n",
            "----------------------------------------\n",
            "  timestep     |  218926\n",
            "  reward       |  -0.0844\n",
            "----------------------------------------\n",
            "INFO - Step 1220, rl-loss: 0.65801489353179935\n",
            "----------------------------------------\n",
            "  timestep     |  232826\n",
            "  reward       |  -0.0787\n",
            "----------------------------------------\n",
            "INFO - Step 1289, rl-loss: 0.53771495819091895\n",
            "----------------------------------------\n",
            "  timestep     |  246459\n",
            "  reward       |  -0.0873\n",
            "----------------------------------------\n",
            "INFO - Step 1349, rl-loss: 0.54560399055480964\n",
            "Logs saved in experiments/blackjack_dqn_result/\n"
          ]
        }
      ],
      "source": [
        "with Logger(\"experiments/blackjack_dqn_result/\") as logger:\n",
        "    for episode in range(1000):\n",
        "\n",
        "        # Generate data from the environment\n",
        "        trajectories, payoffs = env.run(is_training=True)\n",
        "\n",
        "        # Reorganaize the data to be state, action, reward, next_state, done\n",
        "        trajectories = reorganize(trajectories, payoffs)\n",
        "\n",
        "        # Feed transitions into agent memory, and train the agent\n",
        "        for ts in trajectories[0]:\n",
        "            agent.feed(ts)\n",
        "\n",
        "        # Evaluate the performance.\n",
        "        if episode % 50 == 0:\n",
        "            logger.log_performance(\n",
        "                env.timestep,\n",
        "                tournament(\n",
        "                    env,\n",
        "                    10000,\n",
        "                )[0]\n",
        "            )\n",
        "\n",
        "    # Get the paths\n",
        "    csv_path, fig_path = logger.csv_path, logger.fig_path"
      ]
    },
    {
      "cell_type": "markdown",
      "metadata": {
        "id": "rbIiQS3K2R0u"
      },
      "source": [
        "Now we plot the learning curves to monitor how the agent gets improved!"
      ]
    },
    {
      "cell_type": "code",
      "execution_count": 7,
      "metadata": {
        "colab": {
          "base_uri": "https://localhost:8080/",
          "height": 279
        },
        "id": "06n2QSTDIqb0",
        "outputId": "4536c8af-e4ca-489e-c7fd-4d32c839f81c"
      },
      "outputs": [
        {
          "data": {
            "image/png": "[encoded data removed]",
            "text/plain": [
              "<Figure size 432x288 with 1 Axes>"
            ]
          },
          "metadata": {
            "needs_background": "light"
          },
          "output_type": "display_data"
        }
      ],
      "source": [
        "plot_curve(csv_path, fig_path, \"DQN\")"
      ]
    }
  ],
  "metadata": {
    "colab": {
      "collapsed_sections": [],
      "include_colab_link": true,
      "name": "Copy of blackjack_dqn.ipynb",
      "provenance": []
    },
    "kernelspec": {
      "display_name": "Python 3.9.13 ('ml')",
      "language": "python",
      "name": "python3"
    },
    "language_info": {
      "codemirror_mode": {
        "name": "ipython",
        "version": 3
      },
      "file_extension": ".py",
      "mimetype": "text/x-python",
      "name": "python",
      "nbconvert_exporter": "python",
      "pygments_lexer": "ipython3",
      "version": "3.9.13"
    },
    "vscode": {
      "interpreter": {
        "hash": "9d01b5a543a82692238f3084f96aae2e1edb23ab05d685e1cb1b514c5d096d7e"
      }
    }
  },
  "nbformat": 4,
  "nbformat_minor": 0
}
